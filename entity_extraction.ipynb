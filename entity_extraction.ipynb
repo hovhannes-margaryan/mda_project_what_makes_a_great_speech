{
 "cells": [
  {
   "cell_type": "code",
   "execution_count": 1,
   "metadata": {
    "collapsed": true,
    "pycharm": {
     "name": "#%%\n"
    }
   },
   "outputs": [
    {
     "name": "stderr",
     "output_type": "stream",
     "text": [
      "/home/m_hovo/Desktop/KU Leuven/Modern Data Analytics/mda-project/lib/python3.9/site-packages/tqdm/auto.py:22: TqdmWarning: IProgress not found. Please update jupyter and ipywidgets. See https://ipywidgets.readthedocs.io/en/stable/user_install.html\n",
      "  from .autonotebook import tqdm as notebook_tqdm\n",
      "\n"
     ]
    }
   ],
   "source": [
    "import os\n",
    "from Dataset import Dataset\n",
    "from DataLoader import DataLoader\n",
    "from Speech import Speech\n",
    "from preprocessors import *\n",
    "from utils import scrape_speeches\n",
    "from tqdm import tqdm\n",
    "import json"
   ]
  },
  {
   "cell_type": "code",
   "execution_count": 2,
   "outputs": [],
   "source": [
    "usr_agent = \"Mozilla/5.0 (X11; Linux x86_64) AppleWebKit/537.36 (KHTML, like Gecko) Chrome/99.0.4844.51 Safari/537.36\"\n",
    "cwd = os.getcwd()\n",
    "path = f\"{cwd}/dataset\""
   ],
   "metadata": {
    "collapsed": false,
    "pycharm": {
     "name": "#%%\n"
    }
   }
  },
  {
   "cell_type": "code",
   "execution_count": 3,
   "outputs": [],
   "source": [
    "if not os.path.exists(path) or len(os.listdir(path)) == 0:\n",
    "    scrape_speeches(\"https://www.americanrhetoric.com/\", path, usr_agent)"
   ],
   "metadata": {
    "collapsed": false,
    "pycharm": {
     "name": "#%%\n"
    }
   }
  },
  {
   "cell_type": "code",
   "execution_count": 4,
   "outputs": [],
   "source": [
    "preprocessors = [\n",
    "    RemoveExtras(names=True),\n",
    "    # RemoveStopwords(),\n",
    "    # Lemmatize(),\n",
    "    # RemovePunctuation(),\n",
    "    # Lower()\n",
    "]\n",
    "dataset = Dataset(path, preprocessors)\n",
    "dataloader = DataLoader(dataset)"
   ],
   "metadata": {
    "collapsed": false,
    "pycharm": {
     "name": "#%%\n"
    }
   }
  },
  {
   "cell_type": "code",
   "execution_count": 5,
   "outputs": [],
   "source": [
    "results_dir = f\"{cwd}/results\"\n",
    "entities_saving_dir = f\"{cwd}/results/entities.csv\"\n",
    "entities = {\n",
    "    \"entities\": [],\n",
    "    \"count\": [],\n",
    "    \"proportion_in_speech\": []\n",
    "}"
   ],
   "metadata": {
    "collapsed": false,
    "pycharm": {
     "name": "#%%\n"
    }
   }
  },
  {
   "cell_type": "code",
   "execution_count": null,
   "outputs": [
    {
     "name": "stderr",
     "output_type": "stream",
     "text": [
      " 27%|██▋       | 21/77 [02:57<07:43,  8.27s/it]"
     ]
    }
   ],
   "source": [
    "with tqdm(total=len(dataloader.dataset)) as progress_bar:\n",
    "    for i, speech_content in enumerate(dataloader):\n",
    "        speech = Speech(speech_content)\n",
    "        speech_entities = speech.get_entities(labels=False)\n",
    "        entities[\"entities\"].append(speech_entities)\n",
    "        entities[\"count\"].append(len(speech_entities))\n",
    "        entities[\"proportion_in_speech\"].append(len(speech_entities) / speech.get_length())\n",
    "        progress_bar.update(1)"
   ],
   "metadata": {
    "collapsed": false,
    "pycharm": {
     "name": "#%%\n",
     "is_executing": true
    }
   }
  },
  {
   "cell_type": "code",
   "execution_count": null,
   "outputs": [],
   "source": [
    "if not os.path.exists(results_dir):\n",
    "    os.mkdir(results_dir)\n",
    "with open(entities_saving_dir, \"w\") as write_file:\n",
    "    json.dump(entities, write_file, indent=4)"
   ],
   "metadata": {
    "collapsed": false,
    "pycharm": {
     "name": "#%%\n",
     "is_executing": true
    }
   }
  },
  {
   "cell_type": "code",
   "execution_count": null,
   "outputs": [],
   "source": [
    "entities[\"proportion_in_speech\"]"
   ],
   "metadata": {
    "collapsed": false,
    "pycharm": {
     "name": "#%%\n",
     "is_executing": true
    }
   }
  },
  {
   "cell_type": "code",
   "execution_count": null,
   "outputs": [],
   "source": [],
   "metadata": {
    "collapsed": false,
    "pycharm": {
     "name": "#%%\n",
     "is_executing": true
    }
   }
  },
  {
   "cell_type": "code",
   "execution_count": null,
   "outputs": [],
   "source": [],
   "metadata": {
    "collapsed": false,
    "pycharm": {
     "name": "#%%\n",
     "is_executing": true
    }
   }
  },
  {
   "cell_type": "code",
   "execution_count": null,
   "outputs": [],
   "source": [],
   "metadata": {
    "collapsed": false,
    "pycharm": {
     "name": "#%%\n",
     "is_executing": true
    }
   }
  },
  {
   "cell_type": "code",
   "execution_count": null,
   "outputs": [],
   "source": [],
   "metadata": {
    "collapsed": false,
    "pycharm": {
     "name": "#%%\n",
     "is_executing": true
    }
   }
  }
 ],
 "metadata": {
  "kernelspec": {
   "name": "mda-project",
   "language": "python",
   "display_name": "mda-project"
  },
  "language_info": {
   "codemirror_mode": {
    "name": "ipython",
    "version": 2
   },
   "file_extension": ".py",
   "mimetype": "text/x-python",
   "name": "python",
   "nbconvert_exporter": "python",
   "pygments_lexer": "ipython2",
   "version": "2.7.6"
  }
 },
 "nbformat": 4,
 "nbformat_minor": 0
}