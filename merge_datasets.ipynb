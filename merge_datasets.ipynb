{
 "cells": [
  {
   "cell_type": "code",
   "execution_count": 1,
   "metadata": {
    "pycharm": {
     "name": "#%%\n"
    }
   },
   "outputs": [],
   "source": [
    "import pandas as pd\n",
    "import json\n",
    "from functools import reduce\n",
    "import numpy as np\n",
    "import os"
   ]
  },
  {
   "cell_type": "code",
   "execution_count": 2,
   "metadata": {
    "pycharm": {
     "name": "#%%\n"
    }
   },
   "outputs": [],
   "source": [
    "cwd = os.getcwd()\n",
    "results_dir = f\"{cwd}/results\"\n",
    "saving_dir = f\"{cwd}/results/dataset_tabular_merged.csv\"\n",
    "all_df_list = []\n",
    "for type_ in [\"\", \"_typical\"]:\n",
    "    df = pd.read_csv(f\"results/dataset_tabular{type_}.csv\")\n",
    "    emotions = pd.read_csv(f\"results/emotions{type_}.csv\")\n",
    "    sentiments = pd.read_csv(f'results/sentiments{type_}.csv')\n",
    "    complexities = pd.read_csv(f'results/complexities{type_}.csv')\n",
    "    entities = json.load(open(f'results/entities{type_}.csv'))\n",
    "    imagery = json.load(open(f'results/imagery_words_proportion{type_}.csv'))\n",
    "    stopwords = json.load(open(f'results/stopwords_proportion{type_}.csv'))\n",
    "    mean_lengths = json.load(open(f'results/mean_sentence_lengths{type_}.csv'))\n",
    "\n",
    "    other_scores = {\n",
    "        \"Unnamed: 0\": list(range(0, 77)),\n",
    "        \"entities_proportion_in_speech\": entities[\"proportion_in_speech\"],\n",
    "        \"imagery_proportion_in_speech\": imagery[\"proportion_in_speech\"],\n",
    "        \"stopwords_proportion_in_speech\": stopwords[\"proportion_in_speech\"],\n",
    "        \"mean_sentence_lengths\": mean_lengths[\"mean\"],\n",
    "        \"label\": np.ones(77).tolist() if type_ == '' else np.zeros(77).tolist()\n",
    "\n",
    "    }\n",
    "    df_other_scores = pd.DataFrame(other_scores)\n",
    "\n",
    "    dfs = [df, emotions, sentiments, complexities, df_other_scores]\n",
    "    df_merged = reduce(lambda  left,right: pd.merge(left,right,on=['Unnamed: 0']), dfs)\n",
    "    all_df_list.append(df_merged)"
   ]
  },
  {
   "cell_type": "code",
   "execution_count": 3,
   "metadata": {
    "pycharm": {
     "name": "#%%\n"
    }
   },
   "outputs": [
    {
     "name": "stderr",
     "output_type": "stream",
     "text": [
      "/tmp/ipykernel_28265/48323824.py:1: FutureWarning: The frame.append method is deprecated and will be removed from pandas in a future version. Use pandas.concat instead.\n",
      "  df_all = pd.DataFrame.append(all_df_list[0], all_df_list[1])\n"
     ]
    }
   ],
   "source": [
    "df_all = pd.DataFrame.append(all_df_list[0], all_df_list[1])\n",
    "df_all = pd.DataFrame.reset_index(df_all).iloc[:, 2:]"
   ]
  },
  {
   "cell_type": "code",
   "execution_count": 4,
   "metadata": {
    "pycharm": {
     "name": "#%%\n"
    }
   },
   "outputs": [],
   "source": [
    "if not os.path.exists(results_dir):\n",
    "    os.mkdir(results_dir)\n",
    "df_all.to_csv(saving_dir)"
   ]
  },
  {
   "cell_type": "code",
   "execution_count": null,
   "metadata": {
    "pycharm": {
     "name": "#%%\n"
    }
   },
   "outputs": [],
   "source": []
  },
  {
   "cell_type": "code",
   "execution_count": 4,
   "metadata": {
    "pycharm": {
     "name": "#%%\n"
    }
   },
   "outputs": [],
   "source": []
  },
  {
   "cell_type": "code",
   "execution_count": 4,
   "metadata": {
    "pycharm": {
     "name": "#%%\n"
    }
   },
   "outputs": [],
   "source": []
  }
 ],
 "metadata": {
  "kernelspec": {
   "display_name": "mda-project",
   "language": "python",
   "name": "mda-project"
  },
  "language_info": {
   "codemirror_mode": {
    "name": "ipython",
    "version": 3
   },
   "file_extension": ".py",
   "mimetype": "text/x-python",
   "name": "python",
   "nbconvert_exporter": "python",
   "pygments_lexer": "ipython3",
   "version": "3.9.10"
  }
 },
 "nbformat": 4,
 "nbformat_minor": 4
}