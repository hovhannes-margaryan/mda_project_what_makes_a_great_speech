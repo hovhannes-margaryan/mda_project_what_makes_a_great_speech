{
 "cells": [
  {
   "cell_type": "code",
   "execution_count": 1,
   "metadata": {
    "pycharm": {
     "name": "#%%\n"
    }
   },
   "outputs": [],
   "source": [
    "import matplotlib.pyplot as plt\n",
    "import pandas as pd\n",
    "import json\n",
    "import numpy as np"
   ]
  },
  {
   "cell_type": "markdown",
   "metadata": {
    "pycharm": {
     "name": "#%% md\n"
    }
   },
   "source": [
    "# Emotions Scores for each Speech\n",
    "## Emotions Scores - anger, disgust, fear, joy, neutral, sadness, surprise\n",
    "## anger < 0.4 - 96% vs typical 96%\n",
    "## disgust < 0.4 - 98% vs typical 97%\n",
    "## fear > 0.2 - 49% vs typical 23.3%\n",
    "## joy > 0.2 - 35% vs typical 41.5%\n",
    "## neutral > 0.2 - 27% vs typical 41.5%\n",
    "## sadness > 0.2 - 19% vs sadness 15.5%\n",
    "## surprise < 0.2 - 80% vs 94.48\n",
    "## General pattern important: high sadness, fear, joy & low disgust, surprise\n",
    "## General pattern typical: high sadness, fear, joy & low disgust, surprise\n",
    "\n",
    "## more speeches with high fear (> 0.2) in important than typical\n",
    "## fewer speeches with high joy (> 0.2) in important than typical\n",
    "## fewer speeches with high neutrality (0.2) in important than typical\n",
    "## fewer speeches with low surprise (< 0.2) in important than typical"
   ]
  },
  {
   "cell_type": "code",
   "execution_count": 23,
   "metadata": {
    "collapsed": false,
    "jupyter": {
     "outputs_hidden": false
    },
    "pycharm": {
     "name": "#%%\n"
    }
   },
   "outputs": [],
   "source": [
    "emotions_df_important = pd.read_csv(\"results/emotions.csv\")\n",
    "emotions_df_typical = pd.read_csv(\"results/emotions_typical.csv\")"
   ]
  },
  {
   "cell_type": "code",
   "execution_count": null,
   "metadata": {
    "collapsed": false,
    "jupyter": {
     "outputs_hidden": false
    },
    "pycharm": {
     "name": "#%%\n"
    }
   },
   "outputs": [],
   "source": [
    "for colname in emotions_df_important.columns[1:]:\n",
    "    fig, (ax1, ax2) = plt.subplots(1, 2, figsize = (20, 10))\n",
    "    ax1.bar(list(range(0, len(emotions_df_important[colname].array))), emotions_df_important[colname].array)\n",
    "    ax1.set_xlabel(\"Speech Name\")\n",
    "    ax1.set_ylabel(f\"{colname} score\")\n",
    "    ax1.set_title(f\"Important Speeches vs {colname} Score\")\n",
    "    ax2.bar(list(range(0, len(emotions_df_typical[colname].array))), emotions_df_typical[colname].array)\n",
    "    ax2.set_xlabel(\"Speech Name\")\n",
    "    ax2.set_ylabel(f\"{colname} score\")\n",
    "    ax2.set_title(f\"Typical Speeches vs {colname} Score\")\n",
    "    plt.show()"
   ]
  },
  {
   "cell_type": "markdown",
   "metadata": {
    "pycharm": {
     "name": "#%% md\n"
    }
   },
   "source": [
    "# Proportion of entities in speeches (important vs typical)\n",
    "\n",
    "## threshold 0.02 - 12.9% in important 27.27% in typical\n",
    "\n",
    "## it seems that speeches in important contain less entity names than speeches in typical\n",
    "\n",
    "## fewer speeches with high proportion of entities (> 0.02) in imporant than typical"
   ]
  },
  {
   "cell_type": "code",
   "execution_count": 2,
   "metadata": {
    "collapsed": false,
    "jupyter": {
     "outputs_hidden": false
    },
    "pycharm": {
     "name": "#%%\n"
    }
   },
   "outputs": [],
   "source": [
    "entities_dict_important = json.load(open('results/entities.csv'))\n",
    "entities_dict_typical = json.load(open('results/entities_typical.csv'))"
   ]
  },
  {
   "cell_type": "code",
   "execution_count": 3,
   "metadata": {
    "collapsed": false,
    "jupyter": {
     "outputs_hidden": false
    },
    "pycharm": {
     "name": "#%%\n"
    }
   },
   "outputs": [
    {
     "data": {
      "text/plain": [
       "Text(0.5, 1.0, 'Typical Speeches vs entity proportion in speech')"
      ]
     },
     "execution_count": 3,
     "metadata": {},
     "output_type": "execute_result"
    },
    {
     "data": {
      "image/png": "[encoded data removed]",
      "text/plain": [
       "<Figure size 1440x720 with 2 Axes>"
      ]
     },
     "metadata": {
      "needs_background": "light"
     },
     "output_type": "display_data"
    }
   ],
   "source": [
    "fig, (ax1, ax2) = plt.subplots(1, 2, figsize = (20, 10))\n",
    "ax1.bar(list(range(0, len(entities_dict_important[\"proportion_in_speech\"]))),\n",
    "        entities_dict_important[\"proportion_in_speech\"])\n",
    "ax1.set_xlabel(\"Speech Name\")\n",
    "ax1.set_ylabel(f\"proportion in speech\")\n",
    "ax1.set_title(f\"Important Speeches vs entity proportion in speech\")\n",
    "\n",
    "ax2.bar(list(range(0, len(entities_dict_typical[\"proportion_in_speech\"]))),\n",
    "        entities_dict_typical[\"proportion_in_speech\"])\n",
    "ax2.set_xlabel(\"Speech Name\")\n",
    "ax2.set_ylabel(f\"proportion in speech \")\n",
    "ax2.set_title(f\"Typical Speeches vs entity proportion in speech\")"
   ]
  },
  {
   "cell_type": "markdown",
   "metadata": {
    "pycharm": {
     "name": "#%% md\n"
    }
   },
   "source": [
    "# Proportion of imagery words (important vs typical)\n",
    "## threshold 0.075\n",
    "## Important: 75.3%\n",
    "## Typical: 81.81%\n",
    "## fewer speeches with high proportion of imagery words (>0.075) in important than in typical"
   ]
  },
  {
   "cell_type": "code",
   "execution_count": 11,
   "metadata": {
    "collapsed": false,
    "jupyter": {
     "outputs_hidden": false
    },
    "pycharm": {
     "name": "#%%\n"
    }
   },
   "outputs": [],
   "source": [
    "imagery_dict_important = json.load(open('results/imagery_words_proportion.csv'))\n",
    "imagery_dict_typical = json.load(open('results/imagery_words_proportion_typical.csv'))"
   ]
  },
  {
   "cell_type": "code",
   "execution_count": null,
   "metadata": {
    "collapsed": false,
    "jupyter": {
     "outputs_hidden": false
    },
    "pycharm": {
     "name": "#%%\n"
    }
   },
   "outputs": [],
   "source": [
    "fig, (ax1, ax2) = plt.subplots(1, 2, figsize = (20, 10))\n",
    "ax1.bar(list(range(0, len(imagery_dict_important[\"proportion_in_speech\"]))),\n",
    "        imagery_dict_important[\"proportion_in_speech\"])\n",
    "ax1.set_xlabel(\"Speech Name\")\n",
    "ax1.set_ylabel(f\"proportion in speech\")\n",
    "ax1.set_title(f\"Important Speeches vs imagery proportion in speech\")\n",
    "\n",
    "ax2.bar(list(range(0, len(imagery_dict_typical[\"proportion_in_speech\"]))),\n",
    "        imagery_dict_typical[\"proportion_in_speech\"])\n",
    "ax2.set_xlabel(\"Speech Name\")\n",
    "ax2.set_ylabel(f\"proportion in speech \")\n",
    "ax2.set_title(f\"Typical Speeches vs imagery proportion in speech\")"
   ]
  },
  {
   "cell_type": "markdown",
   "metadata": {
    "pycharm": {
     "name": "#%% md\n"
    }
   },
   "source": [
    "# Proportion of stop words (important vs typical)\n",
    "## threshold 0.05\n",
    "## Important: 57.14%\n",
    "## Typical: 67.53%\n",
    "## fewer speaches with high proportion (>0.05) of stopwords in important than in typical"
   ]
  },
  {
   "cell_type": "code",
   "execution_count": 2,
   "metadata": {
    "collapsed": false,
    "jupyter": {
     "outputs_hidden": false
    },
    "pycharm": {
     "name": "#%%\n"
    }
   },
   "outputs": [],
   "source": [
    "stopwords_dict_important = json.load(open('results/stopwords_proportion.csv'))\n",
    "stopwords_dict_typical = json.load(open('results/stopwords_proportion_typical.csv'))"
   ]
  },
  {
   "cell_type": "code",
   "execution_count": null,
   "metadata": {
    "collapsed": false,
    "jupyter": {
     "outputs_hidden": false
    },
    "pycharm": {
     "name": "#%%\n"
    }
   },
   "outputs": [],
   "source": [
    "fig, (ax1, ax2) = plt.subplots(1, 2, figsize = (20, 10))\n",
    "ax1.bar(list(range(0, len(stopwords_dict_important[\"proportion_in_speech\"]))),\n",
    "        stopwords_dict_important[\"proportion_in_speech\"])\n",
    "ax1.set_xlabel(\"Speech Name\")\n",
    "ax1.set_ylabel(f\"proportion in speech\")\n",
    "ax1.set_title(f\"Important Speeches vs stopwords proportion in speech\")\n",
    "\n",
    "ax2.bar(list(range(0, len(stopwords_dict_typical[\"proportion_in_speech\"]))),\n",
    "        stopwords_dict_typical[\"proportion_in_speech\"])\n",
    "ax2.set_xlabel(\"Speech Name\")\n",
    "ax2.set_ylabel(f\"proportion in speech \")\n",
    "ax2.set_title(f\"Typical Speeches vs stopwords proportion in speech\")"
   ]
  },
  {
   "cell_type": "markdown",
   "metadata": {
    "pycharm": {
     "name": "#%% md\n"
    }
   },
   "source": [
    "# Mean length of sentences (important vs typical)\n",
    "## threshold 20\n",
    "## Important: 93.5%\n",
    "## Typical: 76.6%\n",
    "## more speeches with high (>20) mean sentence length in important than in typical"
   ]
  },
  {
   "cell_type": "code",
   "execution_count": 23,
   "metadata": {
    "collapsed": false,
    "jupyter": {
     "outputs_hidden": false
    },
    "pycharm": {
     "name": "#%%\n"
    }
   },
   "outputs": [],
   "source": [
    "mean_sentence_length_dict_important = json.load(open('results/mean_sentence_lengths.csv'))\n",
    "mean_sentence_length_dict_typical = json.load(open('results/mean_sentence_lengths_typical.csv'))"
   ]
  },
  {
   "cell_type": "code",
   "execution_count": null,
   "metadata": {
    "collapsed": false,
    "jupyter": {
     "outputs_hidden": false
    },
    "pycharm": {
     "name": "#%%\n"
    }
   },
   "outputs": [],
   "source": [
    "fig, (ax1, ax2) = plt.subplots(1, 2, figsize = (20, 10))\n",
    "ax1.bar(list(range(0, len(mean_sentence_length_dict_important[\"mean\"]))),\n",
    "        mean_sentence_length_dict_important[\"mean\"])\n",
    "ax1.set_xlabel(\"Speech Name\")\n",
    "ax1.set_ylabel(f\"mean sentence length\")\n",
    "ax1.set_title(f\"Important Speeches vs mean sentence length\")\n",
    "\n",
    "ax2.bar(list(range(0, len(mean_sentence_length_dict_typical[\"mean\"]))),\n",
    "        mean_sentence_length_dict_typical[\"mean\"])\n",
    "ax2.set_xlabel(\"Speech Name\")\n",
    "ax2.set_ylabel(f\"mean sentence length\")\n",
    "ax2.set_title(f\"Typical Speeches vs mean sentence length\")"
   ]
  },
  {
   "cell_type": "markdown",
   "metadata": {
    "pycharm": {
     "name": "#%% md\n"
    }
   },
   "source": [
    "# Sentiments (important vs typical)\n",
    "## polarity\n",
    "## threshold 0.15\n",
    "## Important: 22%\n",
    "## Typical: 33.7%\n",
    "## fewer speeches with polarity (>0.15) in important than typical\n",
    "\n",
    "## subjectivity\n",
    "## threshold 0.4\n",
    "## Important: 85.7%\n",
    "## Typical 80.5\n",
    "## more speeches with high subjectivity (>0.4) in important than typical"
   ]
  },
  {
   "cell_type": "code",
   "execution_count": 36,
   "metadata": {
    "collapsed": false,
    "jupyter": {
     "outputs_hidden": false
    },
    "pycharm": {
     "name": "#%%\n"
    }
   },
   "outputs": [],
   "source": [
    "sentiments_dict_important = pd.read_csv('results/sentiments.csv')\n",
    "sentiments_dict_typical = pd.read_csv('results/sentiments_typical.csv')"
   ]
  },
  {
   "cell_type": "code",
   "execution_count": null,
   "metadata": {
    "collapsed": false,
    "jupyter": {
     "outputs_hidden": false
    },
    "pycharm": {
     "name": "#%%\n"
    }
   },
   "outputs": [],
   "source": [
    "for colname in sentiments_dict_important.columns[1:]:\n",
    "    fig, (ax1, ax2) = plt.subplots(1, 2, figsize = (20, 10))\n",
    "    ax1.bar(list(range(0, len(sentiments_dict_important[colname].array))), sentiments_dict_important[colname].array)\n",
    "    ax1.set_xlabel(\"Speech Name\")\n",
    "    ax1.set_ylabel(f\"{colname} score\")\n",
    "    ax1.set_title(f\"Important Speeches vs {colname} Score\")\n",
    "    ax2.bar(list(range(0, len(sentiments_dict_typical[colname].array))), sentiments_dict_typical[colname].array)\n",
    "    ax2.set_xlabel(\"Speech Name\")\n",
    "    ax2.set_ylabel(f\"{colname} score\")\n",
    "    ax2.set_title(f\"Typical Speeches vs {colname} Score\")\n",
    "    plt.show()"
   ]
  },
  {
   "cell_type": "markdown",
   "metadata": {
    "pycharm": {
     "name": "#%% md\n"
    }
   },
   "source": [
    "# Complexities (important vs typical)\n",
    "## complexity\n",
    "## threshold 60\n",
    "## Important: 25.97\n",
    "## Typical 44.15%\n",
    "## fewer speeches with high complexity (>60) in important than in typical\n",
    "\n",
    "## lexical richness\n",
    "## threshold 0.3\n",
    "## Important: 49.35%\n",
    "## TYpical 55.84%\n",
    "## fewer speeches with high lexical richness (>0.3) in important than in typical"
   ]
  },
  {
   "cell_type": "code",
   "execution_count": 7,
   "metadata": {
    "collapsed": false,
    "jupyter": {
     "outputs_hidden": false
    },
    "pycharm": {
     "name": "#%%\n"
    }
   },
   "outputs": [],
   "source": [
    "complexities_dict_important = pd.read_csv('results/complexities.csv')\n",
    "complexities_dict_typical = pd.read_csv('results/complexities_typical.csv')"
   ]
  },
  {
   "cell_type": "code",
   "execution_count": null,
   "metadata": {
    "collapsed": false,
    "jupyter": {
     "outputs_hidden": false
    },
    "pycharm": {
     "is_executing": true,
     "name": "#%%\n"
    }
   },
   "outputs": [],
   "source": [
    "for colname in complexities_dict_important.columns[1:]:\n",
    "    fig, (ax1, ax2) = plt.subplots(1, 2, figsize = (20, 10))\n",
    "    ax1.bar(list(range(0, len(complexities_dict_important[colname].array))), complexities_dict_important[colname].array)\n",
    "    ax1.set_xlabel(\"Speech Name\")\n",
    "    ax1.set_ylabel(f\"{colname} score\")\n",
    "    ax1.set_title(f\"Important Speeches vs {colname} Score\")\n",
    "    ax2.bar(list(range(0, len(complexities_dict_typical[colname].array))), complexities_dict_typical[colname].array)\n",
    "    ax2.set_xlabel(\"Speech Name\")\n",
    "    ax2.set_ylabel(f\"{colname} score\")\n",
    "    ax2.set_title(f\"Typical Speeches vs {colname} Score\")\n",
    "    plt.show()"
   ]
  }
 ],
 "metadata": {
  "kernelspec": {
   "display_name": "mda-project",
   "language": "python",
   "name": "mda-project"
  },
  "language_info": {
   "codemirror_mode": {
    "name": "ipython",
    "version": 3
   },
   "file_extension": ".py",
   "mimetype": "text/x-python",
   "name": "python",
   "nbconvert_exporter": "python",
   "pygments_lexer": "ipython3",
   "version": "3.9.10"
  }
 },
 "nbformat": 4,
 "nbformat_minor": 4
}