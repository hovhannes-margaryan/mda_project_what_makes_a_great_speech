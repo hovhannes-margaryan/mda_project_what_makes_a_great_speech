{
 "cells": [
  {
   "cell_type": "code",
   "execution_count": 1,
   "metadata": {
    "collapsed": true,
    "pycharm": {
     "name": "#%%\n"
    }
   },
   "outputs": [
    {
     "name": "stderr",
     "output_type": "stream",
     "text": [
      "/home/m_hovo/Desktop/KU Leuven/Modern Data Analytics/mda-project/lib/python3.9/site-packages/tqdm/auto.py:22: TqdmWarning: IProgress not found. Please update jupyter and ipywidgets. See https://ipywidgets.readthedocs.io/en/stable/user_install.html\n",
      "  from .autonotebook import tqdm as notebook_tqdm\n",
      "\n"
     ]
    }
   ],
   "source": [
    "from Dataset import Dataset\n",
    "from DataLoader import DataLoader\n",
    "from Speech import Speech\n",
    "from preprocessors import *"
   ]
  },
  {
   "cell_type": "code",
   "execution_count": 4,
   "outputs": [],
   "source": [
    "path = \"/home/m_hovo/Desktop/KU Leuven/Modern Data Analytics/mda_project_what_makes_a_great_speech/dataset\"\n",
    "preprocessors = [\n",
    "    RemoveExtras(names=True),\n",
    "    RemoveStopwords(),\n",
    "    Lemmatize(),\n",
    "    RemovePunctuation(),\n",
    "    Lower()\n",
    "]\n",
    "dataset = Dataset(path, preprocessors)\n",
    "dataloader = DataLoader(dataset)"
   ],
   "metadata": {
    "collapsed": false,
    "pycharm": {
     "name": "#%%\n"
    }
   }
  },
  {
   "cell_type": "code",
   "execution_count": 5,
   "outputs": [
    {
     "name": "stdout",
     "output_type": "stream",
     "text": [
      " \n",
      " \n",
      " \n",
      "    vice president johnson mr. speaker mr. chief justice president eisenhower vice president \n",
      "    nixon president truman reverend clergy fellow citizen \n",
      " \n",
      "    observe today victory party celebration freedom symbolize end \n",
      "    begin signify renewal change swear \n",
      "    almighty god solemn oath forebear prescribe nearly century three- \n",
      "    quarter ago \n",
      "    world different man hold mortal hand power abolish \n",
      "    form human poverty form human life revolutionary belief \n",
      "    forebear fight issue globe belief right \n",
      "    man come generosity state hand god \n",
      "    dare forget today heirs revolution \n",
      "  \n",
      "  \n",
      " \n",
      "                   \n",
      "       \n",
      "       \n",
      "                                         \n",
      "    let word forth time place friend foe alike torch \n",
      "    pass new generation americans bear century temper war discipline \n",
      "    hard bitter peace proud ancient heritage unwilling witness permit \n",
      "    slow undo human right nation commit \n",
      "    commit today home world \n",
      "    let nation know wish ill shall pay price bear \n",
      "    burden meet hardship support friend oppose foe assure survival \n",
      "    success liberty \n",
      "    pledge \n",
      " \n",
      "    old ally cultural spiritual origin share pledge loyalty \n",
      "    faithful friend united little host cooperative venture divide \n",
      "    little dare meet powerful challenge odd split \n",
      "    asunder \n",
      "    new state welcome rank free pledge word \n",
      "    form colonial control shall pass away merely replace far iron \n",
      "    tyranny shall expect find support view shall \n",
      "    hope find strongly support freedom remember \n",
      "    past foolishly seek power ride tiger end inside \n",
      "    people hut village half globe struggle break bond \n",
      "    mass misery pledge good effort help help period \n",
      "    require communist seek vote \n",
      "    right free society help poor save \n",
      "    rich \n",
      "    sister republics south border offer special pledge convert good \n",
      "    word good deed new alliance progress assist free man free \n",
      "    government cast chain poverty peaceful revolution hope \n",
      "    prey hostile power let neighbor know shall join \n",
      "    oppose aggression subversion americas let power know \n",
      "    hemisphere intend remain master house \n",
      " \n",
      "  \n",
      "  \n",
      " \n",
      "                   \n",
      "       \n",
      "       \n",
      "                                         \n",
      "    world assembly sovereign state united nations good hope age \n",
      "    instrument war far outpace instrument peace renew \n",
      "    pledge support prevent merely forum invective strengthen \n",
      "    shield new weak enlarge area writ run \n",
      " \n",
      "    finally nation adversary offer pledge \n",
      "    request side begin anew quest peace dark power \n",
      "    destruction unleash science engulf humanity plan accidental self destruction \n",
      " \n",
      "    dare tempt weakness arm sufficient doubt \n",
      "    certain doubt employ \n",
      "    great powerful group nations comfort present \n",
      "    course side overburden cost modern weapon rightly alarm \n",
      "    steady spread deadly atom racing alter uncertain balance terror \n",
      "    stay hand mankind final war \n",
      "    let begin anew remember side civility sign weakness \n",
      "    sincerity subject proof let negotiate fear let fear \n",
      "    negotiate \n",
      "    let side explore problem unite instead belabor problem \n",
      "    divide \n",
      " \n",
      "    let side time formulate precise proposal inspection \n",
      "    control arm bring absolute power destroy nation absolute \n",
      "    control nation \n",
      " \n",
      "    let side seek invoke wonder science instead terror let \n",
      "    explore star conquer desert eradicate disease tap ocean depth \n",
      "    encourage art commerce \n",
      " \n",
      "    let side unite heed corner earth command isaiah undo \n",
      "    heavy burden let oppress free ¹ \n",
      " \n",
      "    beachhead cooperation push jungle suspicion let side join \n",
      "    create new endeavor new balance power new world law \n",
      "    strong weak secure peace preserve \n",
      "  \n",
      "  \n",
      " \n",
      "                   \n",
      "       \n",
      "       \n",
      "                                         \n",
      "    finish day finish \n",
      "    thousand day life administration lifetime \n",
      "    planet let begin \n",
      " \n",
      "    hand fellow citizen rest final success failure \n",
      "    course country found generation americans summon \n",
      "    testimony national loyalty grave young americans answer \n",
      "    service surround globe \n",
      " \n",
      "    trumpet summon bear arm arm need \n",
      "    battle embattle bear burden long twilight \n",
      "    struggle year year rejoice hope patient tribulation,\"² struggle \n",
      "    common enemy man tyranny poverty disease war \n",
      "    forge enemy grand global alliance north south east \n",
      "    west assure fruitful life mankind join historic effort \n",
      "    long history world generation grant role \n",
      "    defend freedom hour maximum danger shrink responsibility \n",
      "    welcome believe exchange place people \n",
      "    generation energy faith devotion bring endeavor \n",
      "    light country serve glow fire truly light world \n",
      " \n",
      "    fellow americans ask country ask \n",
      "    country \n",
      " \n",
      "    fellow citizen world ask america \n",
      "    freedom man \n",
      "    finally citizen america citizen world ask \n",
      "    high standard strength sacrifice ask good conscience \n",
      "    sure reward history final judge deed let forth lead land love \n",
      "    ask blessing help know earth god work truly \n",
      "   \n",
      "    ¹ isaiah 58:6 king james version holy bible \n",
      "    ² romans 12:12 king james version holy bible\n"
     ]
    }
   ],
   "source": [
    "for speech_content in dataloader:\n",
    "    speech = Speech(speech_content)\n",
    "    print(speech.content)\n",
    "    break"
   ],
   "metadata": {
    "collapsed": false,
    "pycharm": {
     "name": "#%%\n"
    }
   }
  },
  {
   "cell_type": "code",
   "execution_count": null,
   "outputs": [],
   "source": [],
   "metadata": {
    "collapsed": false,
    "pycharm": {
     "name": "#%%\n",
     "is_executing": true
    }
   }
  },
  {
   "cell_type": "code",
   "execution_count": null,
   "outputs": [],
   "source": [],
   "metadata": {
    "collapsed": false,
    "pycharm": {
     "name": "#%%\n",
     "is_executing": true
    }
   }
  },
  {
   "cell_type": "code",
   "execution_count": null,
   "outputs": [],
   "source": [],
   "metadata": {
    "collapsed": false,
    "pycharm": {
     "name": "#%%\n",
     "is_executing": true
    }
   }
  },
  {
   "cell_type": "code",
   "execution_count": null,
   "outputs": [],
   "source": [],
   "metadata": {
    "collapsed": false,
    "pycharm": {
     "name": "#%%\n",
     "is_executing": true
    }
   }
  },
  {
   "cell_type": "code",
   "execution_count": null,
   "outputs": [],
   "source": [],
   "metadata": {
    "collapsed": false,
    "pycharm": {
     "name": "#%%\n",
     "is_executing": true
    }
   }
  },
  {
   "cell_type": "code",
   "execution_count": null,
   "outputs": [],
   "source": [
    "\n"
   ],
   "metadata": {
    "collapsed": false,
    "pycharm": {
     "name": "#%%\n",
     "is_executing": true
    }
   }
  },
  {
   "cell_type": "code",
   "execution_count": null,
   "outputs": [],
   "source": [],
   "metadata": {
    "collapsed": false,
    "pycharm": {
     "name": "#%%\n",
     "is_executing": true
    }
   }
  }
 ],
 "metadata": {
  "kernelspec": {
   "name": "mda-project",
   "language": "python",
   "display_name": "mda-project"
  },
  "language_info": {
   "codemirror_mode": {
    "name": "ipython",
    "version": 2
   },
   "file_extension": ".py",
   "mimetype": "text/x-python",
   "name": "python",
   "nbconvert_exporter": "python",
   "pygments_lexer": "ipython2",
   "version": "2.7.6"
  }
 },
 "nbformat": 4,
 "nbformat_minor": 0
}