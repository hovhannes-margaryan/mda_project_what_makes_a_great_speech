{
 "cells": [
  {
   "cell_type": "code",
   "execution_count": 1,
   "metadata": {
    "collapsed": true,
    "pycharm": {
     "name": "#%%\n"
    }
   },
   "outputs": [
    {
     "name": "stderr",
     "output_type": "stream",
     "text": [
      "/home/m_hovo/Desktop/KU Leuven/Modern Data Analytics/mda-project/lib/python3.9/site-packages/tqdm/auto.py:22: TqdmWarning: IProgress not found. Please update jupyter and ipywidgets. See https://ipywidgets.readthedocs.io/en/stable/user_install.html\n",
      "  from .autonotebook import tqdm as notebook_tqdm\n",
      "\n"
     ]
    }
   ],
   "source": [
    "import os\n",
    "from Dataset import Dataset\n",
    "from DataLoader import DataLoader\n",
    "from Speech import Speech\n",
    "from preprocessors import *\n",
    "from utils import scrape_speeches"
   ]
  },
  {
   "cell_type": "code",
   "execution_count": 2,
   "outputs": [],
   "source": [
    "usr_agent = \"Mozilla/5.0 (X11; Linux x86_64) AppleWebKit/537.36 (KHTML, like Gecko) Chrome/99.0.4844.51 Safari/537.36\"\n",
    "cwd = os.getcwd()\n",
    "path = f\"{cwd}/dataset\""
   ],
   "metadata": {
    "collapsed": false,
    "pycharm": {
     "name": "#%%\n"
    }
   }
  },
  {
   "cell_type": "code",
   "execution_count": 3,
   "outputs": [],
   "source": [
    "if not os.path.exists(path) or len(os.listdir(path)) == 0:\n",
    "    scrape_speeches(\"https://www.americanrhetoric.com/\", path, usr_agent)"
   ],
   "metadata": {
    "collapsed": false,
    "pycharm": {
     "name": "#%%\n"
    }
   }
  },
  {
   "cell_type": "code",
   "execution_count": 4,
   "outputs": [],
   "source": [
    "preprocessors = [\n",
    "    RemoveExtras(names=False),\n",
    "    # RemoveStopwords(),\n",
    "    # Lemmatize(),\n",
    "    # RemovePunctuation(),\n",
    "    # Lower()\n",
    "]\n",
    "dataset = Dataset(path, preprocessors)\n",
    "dataloader = DataLoader(dataset)"
   ],
   "metadata": {
    "collapsed": false,
    "pycharm": {
     "name": "#%%\n"
    }
   }
  },
  {
   "cell_type": "code",
   "execution_count": 31,
   "outputs": [
    {
     "name": "stdout",
     "output_type": "stream",
     "text": [
      "Margaret Chase Smith \n",
      "Declaration of Conscience \n",
      "Delivered 1 June 1950 \n",
      " \n",
      " \n",
      "Mr. President: \n",
      "I would like to speak briefly and simply about a serious national condition.  It is a national \n",
      "feeling of fear and frustration that could result in national suicide and the end of everything \n",
      "that we Americans hold dear.  It is a condition that comes from the lack of effective leadership \n",
      "in either the Legislative Branch or the Executive Branch of our Government. \n",
      "That leadership is so lacking that serious and responsible proposals are being made that \n",
      "national advisory commissions be appointed to provide such critically needed leadership. \n",
      "I speak as briefly as possible because too much harm has already been done with \n",
      "irresponsible words of bitterness and selfish political opportunism.  I speak as briefly as \n",
      "possible because the issue is too great to be obscured by eloquence.  I speak simply and \n",
      "briefly in the hope that my words will be taken to heart. \n",
      "  \n",
      "  \n",
      " \n",
      "       \n",
      " \n",
      " \n",
      "I speak as a Republican. \n",
      "I speak as a woman. \n",
      "I speak as a United States Senator. \n",
      "I speak as an American. \n",
      "The United States Senate has long enjoyed worldwide respect as the greatest deliberative \n",
      "body in the world.  But recently that deliberative character has too often been debased to the \n",
      "level of a forum of hate and character assassination  of congressional \n",
      "immunity. \n",
      "It is ironical that we Senators can in debate in the Senate directly or indirectly, by any form of \n",
      "words, impute to any American who is not a Senator any conduct or motive unworthy or \n",
      "unbecoming an American -- and without that non-Senator American having any legal redress \n",
      "against us -- yet if we say the same thing in the Senate about our colleagues we can be \n",
      "stopped on the grounds of being out of order. \n",
      "It is strange that we can verbally attack anyone else without restraint and with full protection \n",
      "and yet we hold ourselves above the same type of criticism here on the Senate Floor.  Surely \n",
      "the United States Senate is big enough to take self-criticism and self-appraisal.  Surely we \n",
      "should be able to take the same kind of character attacks that we \"dish out\" to outsiders. \n",
      "I think that it is high time for the United States Senate and its members to do some soul-\n",
      "searching -- for us to weigh our consciences -- on the manner in which we are performing our \n",
      "duty to the people of America -- on the manner in which we are using or abusing our \n",
      "individual powers and privileges. \n",
      "I think that it is high time that we remembered that we have sworn to uphold and defend the \n",
      "Constitution.  I think that it is high time that we remembered that the Constitution, as \n",
      "amended, speaks not only of the freedom of speech but also of  of trial by \n",
      "accusation. \n",
      "Whether it be a criminal prosecution in court or a character prosecution in the Senate, there is \n",
      "little practical distinction when the life of a person has been ruined. \n",
      "  \n",
      "  \n",
      " \n",
      "       \n",
      " \n",
      " \n",
      "Those of us who shout the loudest about Americanism in making character assassinations are \n",
      "all too frequently those who, by our own words and acts, ignore some of the basic principles \n",
      "of Americanism: \n",
      "            The right to criticize; \n",
      "            The right to hold unpopular beliefs; \n",
      "            The right to protest; \n",
      "            The right of independent thought. \n",
      "The exercise of these rights should not cost one single American citizen his reputation or his \n",
      "right to a livelihood nor should he be in danger of losing his reputation or livelihood merely \n",
      "because he happens to know someone who holds unpopular beliefs.  Who of us doesn’t?  \n",
      "Otherwise none of us could call our souls our own.  Otherwise thought control would have set \n",
      "in. \n",
      "The American people are sick and tired of being afraid to speak their minds lest they be \n",
      "politically smeared as \"Communists\" or \"Fascists\" by their opponents.  Freedom of speech is \n",
      "not what it used to be in America.  It has been so  it is not exercised by \n",
      "others. \n",
      "The American people are sick and tired of seeing innocent people smeared and guilty people \n",
      "whitewashed.  But there have been enough proved cases, such as the Amerasia case, the Hiss \n",
      "case, the Coplon case, the Gold case, to cause the nationwide distrust and strong suspicion \n",
      "that there may be something to the unproved, sensational accusations. \n",
      "As a Republican, I say to my colleagues on this side of the aisle that the Republican Party \n",
      "faces a challenge today that is not unlike the challenge that it faced back in Lincoln’s day. The \n",
      "Republican Party so successfully met that challenge that it emerged from the Civil War as the \n",
      "champion of a united nation -- in addition to being a Party that unrelentingly fought loose \n",
      "spending and loose programs. \n",
      "Today our country is being psychologically  and the suspicions that \n",
      "are bred in the United States Senate to spread like cancerous tentacles of \"know nothing, \n",
      "  \n",
      "  \n",
      " \n",
      "       \n",
      " \n",
      " \n",
      "suspect everything\" attitudes.  Today we have a Democratic Administration that has \n",
      "developed a mania for loose spending and loose programs. \n",
      "History is repeating itself -- and the Republican Party again has the opportunity to emerge as \n",
      "the champion of unity and prudence. \n",
      "The record of the present Democratic Administration has provided us with sufficient campaign \n",
      "issues without the necessity of resorting to political smears.  America is rapidly losing its \n",
      "position as leader of the world simply because the Democratic Administration has pitifully \n",
      "failed to provide effective leadership. \n",
      "The Democratic Administration has completely confused the American  \n",
      "contradictory grave warnings and optimistic assurances -- that show the people that our \n",
      "Democratic Administration has no idea of where it is going. \n",
      "The Democratic Administration has greatly lost the confidence of the American people by its \n",
      "complacency to the threat of communism here at home and the leak of vital secrets to Russia \n",
      "though key officials of the Democratic Administration.  There are enough proved cases to \n",
      "make this point without diluting our criticism with unproved charges. \n",
      "Surely these are sufficient reasons to make it clear to the American people that it is time for a \n",
      "change and that a Republican victory is necessary to the security of this country.  Surely it is \n",
      "clear that this nation will continue to suffer as long as it is  ineffective \n",
      "Democratic Administration. \n",
      "Yet to displace it with a Republican regime embracing a philosophy that lacks political integrity \n",
      "or intellectual honesty would prove equally disastrous to this nation.  The nation sorely needs \n",
      "a Republican victory.  But I don’t want to see the Republican Party ride to political victory on \n",
      "the Four Horsemen of Calumny -- Fear, Ignorance, Bigotry, and Smear. \n",
      "I doubt if the Republican Party could -- simply because I don’t believe the American people \n",
      "will uphold any political party that puts political exploitation above national interest.  Surely \n",
      "we Republicans aren’t that desperate for victory. \n",
      "I don’t want to see the Republican Party win that way.  While it might be a fleeting victory for \n",
      "the Republican Party, it would be a more lasting defeat for the American people.  Surely it \n",
      "  \n",
      "  \n",
      " \n",
      "       \n",
      " \n",
      " \n",
      "would ultimately be suicide for the Republican Party and the two-party system that has \n",
      "protected our American liberties from the dictatorship of a one party system. \n",
      "As members of the Minority Party, we do not have the primary authority to formulate the \n",
      "policy of our Government.  But we do have the responsibility of rendering constructive \n",
      "criticism, of clarifying issues, of allaying  responsible citizens. \n",
      "As a woman, I wonder how the mothers, wives, sisters, and daughters feel about the way in \n",
      "which members of their families have been politically mangled in the Senate debate -- and I \n",
      "use the word \"debate\" advisedly. \n",
      "As a United States Senator, I am not proud of the way in which the Senate has been made a \n",
      "publicity platform for irresponsible sensationalism.  I am not proud of the reckless abandon in \n",
      "which unproved charges have been hurled from this side of the aisle.  I am not proud of the \n",
      "obviously staged, undignified countercharges that have been attempted in retaliation from the \n",
      "other side of the aisle. \n",
      "I don’t like the way the Senate has been made a rendezvous for vilification, for selfish political \n",
      "gain at the sacrifice of individual reputations and national unity.  I am not proud of the way \n",
      "we smear outsiders from the Floor of the Senate and hide behind the cloak of congressional \n",
      "immunity and still place ourselves beyond criticism on the Floor of the Senate. \n",
      "As an American, I am shocked at the way Republicans and Democrats alike are playing \n",
      "directly into the Communist design of \"confuse, divide, and conquer.\"  As an American, I don’t \n",
      "want a Democratic Administration “whitewash” or \"cover-up\" any more than I want a \n",
      "Republican smear or witch hunt. \n",
      "As an American, I condemn a Republican \"Fascist\" just as much I condemn a Democratic \n",
      "\"Communist.\"  I condemn a Democrat \"Fascist\" just as much as I condemn a Republican \n",
      "\"Communist.\"  They are equally dangerous to you and me and to our country.  As an \n",
      "American, I want to see our nation recapture the strength and unity it once had when we \n",
      "fought the enemy instead of ourselves. \n",
      "It is with these thoughts that I have drafted what I call a \"Declaration of Conscience.\"  I am \n",
      "gratified that Senator Tobey, Senator Aiken, Senator Morse, Senator Ives, Senator Thye, and \n",
      "Senator Hendrickson have concurred in that declaration and have authorized me to announce \n",
      "their concurrence. \n",
      "  \n",
      "  \n",
      " \n",
      "       \n",
      " \n",
      " \n",
      "The declaration reads as follows:  \n",
      "1. We are Republicans. But we are Americans first. It is as Americans that we express \n",
      "our concern with the growing confusion that threatens the security and stability of our \n",
      "country. Democrats and Republicans alike have contributed to that confusion.  \n",
      "2. The Democratic administration has initially created the  of \n",
      "effective leadership, by its contradictory grave warnings and optimistic assurances, by \n",
      "its complacency to the threat of communism here at home, by its oversensitiveness to \n",
      "rightful criticism, by its petty bitterness against its critics.  \n",
      "3. Certain elements of the Republican Party have materially added to this confusion in \n",
      "the hopes of riding the Republican party to victory through the selfish political \n",
      "exploitation of fear, bigotry, ignorance, and intolerance. There are enough mistakes of \n",
      "the Democrats for Republicans to criticize constructively without resorting to political \n",
      "smears.  \n",
      "4. To this extent, Democrats and Republicans alike have unwittingly, but undeniably, \n",
      "played directly into the Communist design of “confuse, divide and conquer.”  \n",
      "5. It is high time that we stopped thinking politically as Republicans and Democrats \n",
      "about elections and started thinking patriotically as Americans about national security \n",
      "based on individual freedom. It is high time that we all stopped being tools and victims \n",
      "of totalitarian techniques -- techniques that, if continued here unchecked, will surely \n",
      "end what we have come to cherish as the American way of life.\n"
     ]
    }
   ],
   "source": [
    "for speech_content in dataloader:\n",
    "    speech = Speech(speech_content)\n",
    "    print(speech.content)\n",
    "    break"
   ],
   "metadata": {
    "collapsed": false,
    "pycharm": {
     "name": "#%%\n"
    }
   }
  },
  {
   "cell_type": "code",
   "execution_count": 30,
   "outputs": [],
   "source": [],
   "metadata": {
    "collapsed": false,
    "pycharm": {
     "name": "#%%\n"
    }
   }
  },
  {
   "cell_type": "code",
   "execution_count": 6,
   "outputs": [],
   "source": [],
   "metadata": {
    "collapsed": false,
    "pycharm": {
     "name": "#%%\n"
    }
   }
  },
  {
   "cell_type": "code",
   "execution_count": 6,
   "outputs": [],
   "source": [],
   "metadata": {
    "collapsed": false,
    "pycharm": {
     "name": "#%%\n"
    }
   }
  },
  {
   "cell_type": "code",
   "execution_count": 6,
   "outputs": [],
   "source": [],
   "metadata": {
    "collapsed": false,
    "pycharm": {
     "name": "#%%\n"
    }
   }
  },
  {
   "cell_type": "code",
   "execution_count": 6,
   "outputs": [],
   "source": [],
   "metadata": {
    "collapsed": false,
    "pycharm": {
     "name": "#%%\n"
    }
   }
  },
  {
   "cell_type": "code",
   "execution_count": 6,
   "outputs": [],
   "source": [
    "\n"
   ],
   "metadata": {
    "collapsed": false,
    "pycharm": {
     "name": "#%%\n"
    }
   }
  },
  {
   "cell_type": "code",
   "execution_count": 6,
   "outputs": [],
   "source": [],
   "metadata": {
    "collapsed": false,
    "pycharm": {
     "name": "#%%\n"
    }
   }
  }
 ],
 "metadata": {
  "kernelspec": {
   "name": "mda-project",
   "language": "python",
   "display_name": "mda-project"
  },
  "language_info": {
   "codemirror_mode": {
    "name": "ipython",
    "version": 2
   },
   "file_extension": ".py",
   "mimetype": "text/x-python",
   "name": "python",
   "nbconvert_exporter": "python",
   "pygments_lexer": "ipython2",
   "version": "2.7.6"
  }
 },
 "nbformat": 4,
 "nbformat_minor": 0
}